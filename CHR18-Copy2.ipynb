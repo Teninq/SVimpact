{
 "cells": [
  {
   "cell_type": "markdown",
   "metadata": {},
   "source": [
    "# SV database"
   ]
  },
  {
   "cell_type": "code",
   "execution_count": 1,
   "metadata": {
    "scrolled": true
   },
   "outputs": [
    {
     "name": "stderr",
     "output_type": "stream",
     "text": [
      "\n",
      "Attaching package: ‘dplyr’\n",
      "\n",
      "The following objects are masked from ‘package:data.table’:\n",
      "\n",
      "    between, first, last\n",
      "\n",
      "The following objects are masked from ‘package:stats’:\n",
      "\n",
      "    filter, lag\n",
      "\n",
      "The following objects are masked from ‘package:base’:\n",
      "\n",
      "    intersect, setdiff, setequal, union\n",
      "\n",
      "\n",
      "Attaching package: ‘igraph’\n",
      "\n",
      "The following objects are masked from ‘package:dplyr’:\n",
      "\n",
      "    as_data_frame, groups, union\n",
      "\n",
      "The following objects are masked from ‘package:stats’:\n",
      "\n",
      "    decompose, spectrum\n",
      "\n",
      "The following object is masked from ‘package:base’:\n",
      "\n",
      "    union\n",
      "\n"
     ]
    }
   ],
   "source": [
    "libs <- c(\"data.table\",\"dplyr\",\"igraph\",\"parallel\")\n",
    "for (i in libs){\n",
    "  if( !is.element(i, .packages(all.available = TRUE)) ) \n",
    "  {\n",
    "    if(is.element(i,available.packages()[,1])){install.packages(i)}\n",
    "    else{\n",
    "    source(\"https://bioconductor.org/biocLite.R\")\n",
    "    biocLite(i);}\n",
    "  }\n",
    "  library(i,character.only = TRUE)\n",
    "}\n",
    "\n",
    "\n",
    "\n"
   ]
  },
  {
   "cell_type": "markdown",
   "metadata": {},
   "source": [
    "## 读取文件"
   ]
  },
  {
   "cell_type": "code",
   "execution_count": 2,
   "metadata": {},
   "outputs": [
    {
     "name": "stdout",
     "output_type": "stream",
     "text": [
      "\r",
      "Read 0.0% of 6668715 rows\r",
      "Read 6.0% of 6668715 rows\r",
      "Read 8.1% of 6668715 rows\r",
      "Read 12.0% of 6668715 rows\r",
      "Read 15.6% of 6668715 rows\r",
      "Read 16.6% of 6668715 rows\r",
      "Read 22.2% of 6668715 rows\r",
      "Read 27.7% of 6668715 rows\r",
      "Read 28.8% of 6668715 rows\r",
      "Read 34.0% of 6668715 rows\r",
      "Read 37.0% of 6668715 rows\r",
      "Read 41.8% of 6668715 rows\r",
      "Read 42.4% of 6668715 rows\r",
      "Read 46.8% of 6668715 rows\r",
      "Read 51.7% of 6668715 rows\r",
      "Read 55.9% of 6668715 rows\r",
      "Read 58.3% of 6668715 rows\r",
      "Read 63.1% of 6668715 rows\r",
      "Read 68.2% of 6668715 rows\r",
      "Read 72.4% of 6668715 rows\r",
      "Read 76.6% of 6668715 rows\r",
      "Read 77.1% of 6668715 rows\r",
      "Read 82.8% of 6668715 rows\r",
      "Read 87.9% of 6668715 rows\r",
      "Read 89.7% of 6668715 rows\r",
      "Read 94.3% of 6668715 rows\r",
      "Read 98.8% of 6668715 rows\r",
      "Read 6668715 rows and 20 (of 20) columns from 0.890 GB file in 00:00:52\n"
     ]
    }
   ],
   "source": [
    "DGV_Supporting<-fread(input = \"/media/_EXTend2018/Taoyiran/File_149/SVdatabase/GRCh37_hg19_supportingvariants_2016-05-15.txt\")\n",
    "DGV_Supporting<-DGV_Supporting[-grep(\"9_gl000200_random\",DGV_Supporting$chr),]\n",
    "DGV_Supporting<-DGV_Supporting[DGV_Supporting$mergedorsample==\"S\",]\n",
    "DGV_Information<-fread(\"/media/_EXTend2018/Taoyiran/File_149/jupyter/DGV_infomation.txt\")\n",
    "DGV_Supporting$Ethnicity<-DGV_Information[match(DGV_Supporting$samples,DGV_Information$`external sample id`),\"ethnicity_New\"]"
   ]
  },
  {
   "cell_type": "code",
   "execution_count": 3,
   "metadata": {},
   "outputs": [
    {
     "data": {
      "text/plain": [
       ".\n",
       "               African       Ashkenazi Jewish             East Asian \n",
       "               1370311                   2748                 983092 \n",
       "    European (Finnish) European (Non-Finnish)                 Latino \n",
       "                216225                1093132                 731625 \n",
       "             No-report                  Other            South Asian \n",
       "                 27467                  77778                1150872 "
      ]
     },
     "metadata": {},
     "output_type": "display_data"
    }
   ],
   "source": [
    "DGV_Supporting$Ethnicity%>%table"
   ]
  },
  {
   "cell_type": "markdown",
   "metadata": {},
   "source": [
    "补全gain/loss为NA的数据"
   ]
  },
  {
   "cell_type": "code",
   "execution_count": 4,
   "metadata": {},
   "outputs": [],
   "source": [
    "temp<-grep(TRUE,is.na(DGV_Supporting[,\"observedgains\"]))\n",
    "#DGV_Supporting[temp,\"variantsubtype\"]%>%table\n",
    "DGV_Supporting[intersect(temp,grep(TRUE,DGV_Supporting[,\"variantsubtype\"]==\"deletion\")),\"observedgains\"]<-c(0)\n",
    "DGV_Supporting[intersect(temp,grep(TRUE,DGV_Supporting[,\"variantsubtype\"]==\"deletion\")),\"observedlosses\"]<-c(1)\n",
    "\n",
    "DGV_Supporting[intersect(temp,grep(TRUE,DGV_Supporting[,\"variantsubtype\"]==\"insertion\")),\"observedgains\"]<-c(1)\n",
    "DGV_Supporting[intersect(temp,grep(TRUE,DGV_Supporting[,\"variantsubtype\"]==\"insertion\")),\"observedlosses\"]<-c(0)\n",
    "\n",
    "DGV_Supporting[intersect(temp,grep(TRUE,DGV_Supporting[,\"variantsubtype\"]==\"loss\")),\"observedgains\"]<-c(0)\n",
    "DGV_Supporting[intersect(temp,grep(TRUE,DGV_Supporting[,\"variantsubtype\"]==\"loss\")),\"observedlosses\"]<-c(1)\n"
   ]
  },
  {
   "cell_type": "markdown",
   "metadata": {},
   "source": [
    "### 一号染色体"
   ]
  },
  {
   "cell_type": "code",
   "execution_count": 5,
   "metadata": {
    "scrolled": true
   },
   "outputs": [],
   "source": [
    "DGV_Supporting_chr1<-DGV_Supporting[DGV_Supporting$chr==\"18\",]\n",
    "DGV_Supporting_START.END<-DGV_Supporting_chr1[,c(\"variantaccession\",\"chr\",\"start\",\"end\",\"observedgains\",\"observedlosses\",\"supportingvariants\",\"variantsubtype\",\"genes\",\"samples\",\"Ethnicity\")]\n",
    "DGV_Supporting_START.END<-dplyr::arrange(DGV_Supporting_START.END,by_group=start)\n",
    "DGV_Supporting_START.END[,3]<-DGV_Supporting_START.END[,3]%>%as.numeric\n",
    "DGV_Supporting_START.END[,4]<-DGV_Supporting_START.END[,4]%>%as.numeric"
   ]
  },
  {
   "cell_type": "code",
   "execution_count": 6,
   "metadata": {},
   "outputs": [
    {
     "data": {
      "text/plain": [
       ".\n",
       "               African       Ashkenazi Jewish             East Asian \n",
       "                 33034                     35                  26115 \n",
       "    European (Finnish) European (Non-Finnish)                 Latino \n",
       "                  5909                  26470                  19276 \n",
       "             No-report                  Other            South Asian \n",
       "                   822                   1824                  30587 "
      ]
     },
     "metadata": {},
     "output_type": "display_data"
    }
   ],
   "source": [
    "DGV_Supporting_chr1$Ethnicity%>%table"
   ]
  },
  {
   "cell_type": "markdown",
   "metadata": {},
   "source": [
    "### Split into Blocks"
   ]
  },
  {
   "cell_type": "code",
   "execution_count": 7,
   "metadata": {},
   "outputs": [],
   "source": [
    "ClusterByPos=function(vec,min.dis,multi.samples = FALSE)\n",
    "{\n",
    "names(vec) = 1:length(vec)\n",
    "sort.vec = sort(vec)\n",
    "diff.sort.vec = diff(sort.vec)\n",
    "split.index = which(diff.sort.vec > min.dis)\n",
    "start.index = c(1,split.index + 1)\n",
    "end.index = c(split.index,length(sort.vec))\n",
    "cls.list = lapply(apply(cbind(start.index,end.index),1,function(x){y = list(as.numeric(names(sort.vec)[x[1]:x[2]])) }),unlist)\n",
    "cls.list\n",
    "}\n",
    "\n",
    "start.index<-ClusterByPos(DGV_Supporting_START.END$start,100)\n",
    "end.index<-ClusterByPos(DGV_Supporting_START.END$end,100)\n",
    "\n",
    "ClusterBoth<-function(start.index,end.index)\n",
    "{\n",
    "names(start.index)<-c(1:length(start.index))\n",
    "names(end.index)<-c(1:length(end.index))\n",
    "\n",
    "start.unlist<-unlist(start.index)\n",
    "names(start.unlist)<-unlist(lapply(1:length(start.index),function(x){rep(x,length(start.index[[x]]))}))\n",
    "\n",
    "end.unlist<-unlist(end.index)\n",
    "names(end.unlist)<-unlist(lapply(1:length(end.index),function(x){rep(x,length(end.index[[x]]))}))\n",
    "end.unlist<-sort(end.unlist)\n",
    "\n",
    "\n",
    "Index<-paste(names(start.unlist),names(end.unlist),sep = \"-\")\n",
    "names(Index)<-c(1:length(Index))\n",
    "Index_2<-data.frame(cbind(Index,names(Index)))\n",
    "index_3<-group_indices(Index_2, Index)\n",
    "return(final.list<-ClusterByPos(index_3,0))\n",
    "\n",
    "}\n",
    "Block.list<-ClusterBoth(start.index,end.index)\n"
   ]
  },
  {
   "cell_type": "code",
   "execution_count": 8,
   "metadata": {},
   "outputs": [],
   "source": [
    "#判断每个block是否需要做Igraph 下回使用tapply\n",
    "DistOfBlock<-function(block.list)\n",
    "  { \n",
    "  if(length(block.list)==1){return(c(\"No\"))}\n",
    "  else{\n",
    "      x<-DGV_Supporting_START.END[block.list,c(1,3,4)]\n",
    "      a<-abs(max(x[,2])-min(x[,2]))\n",
    "      b<-abs(max(x[,3])-min(x[,3]))\n",
    "      c<-max(a,b)\n",
    "     # print(block.list[1])\n",
    "      if(c>100){return(c(\"Need\"))}\n",
    "      else{return(c(\"No\"))}\n",
    "     # print(block.list[1])\n",
    "      }\n",
    "}\n",
    "Block.needIgraph<-lapply(Block.list,DistOfBlock)\n",
    "NeedOrNot<-unlist(Block.needIgraph)\n",
    "Block.needIgraph<-Block.list[NeedOrNot==\"Need\"]\n",
    "Block.NO.needIgraph<-Block.list[NeedOrNot==\"No\"]"
   ]
  },
  {
   "cell_type": "markdown",
   "metadata": {},
   "source": [
    "### 多进程生成距离矩阵"
   ]
  },
  {
   "cell_type": "code",
   "execution_count": 9,
   "metadata": {},
   "outputs": [
    {
     "data": {
      "text/plain": [
       "    user   system  elapsed \n",
       "   8.249    1.887 7331.697 "
      ]
     },
     "metadata": {},
     "output_type": "display_data"
    }
   ],
   "source": [
    "#多进程生成距离矩阵\n",
    "library(parallel)\n",
    "cl <- makeCluster(5)\n",
    "\n",
    "Block2Dist<-function(block.list)\n",
    "\t{\n",
    "    x<-DGV_Supporting_START.END[block.list,c(3:4)]\n",
    "  \te<-c(rep(0,nrow(x)))\n",
    "  \tfor(i in 1:nrow(x))\n",
    "\t\t{\n",
    "\t\td<-c(rep(0,nrow(x)))\n",
    "\t\tfor(j in 1:nrow(x))\n",
    "\t\t\t{\n",
    "\t\t\tif(i==j)\n",
    "\t\t\t\t{\n",
    "\t\t\t\td[j]<-c(0)\n",
    "\t\t\t\t}\n",
    "\t\t\telse\n",
    "\t\t\t\t{\n",
    "\t\t\t\ta<-abs(x[i,1]-x[j,1])\n",
    "\t\t\t\tb<-abs(x[i,2]-x[j,2])\n",
    "\t\t\t\td[j]<-max(a,b)\n",
    "\t\t\t\t}\n",
    "\t\t\t}\n",
    "\t\te<-rbind(e,d)\t\n",
    "\t\t}\n",
    "\te<-e[-1,]\n",
    "\treturn(e)\n",
    "\t}\n",
    "\n",
    "clusterExport(cl, \"DGV_Supporting_START.END\")  \n",
    "system.time({BlockToDist<- parLapply(cl,Block.needIgraph,Block2Dist)})\n",
    "\n",
    "\n",
    "#DistTest<- do.call('rbind',res)\n",
    "\n",
    "for(i in 1:length(BlockToDist))\n",
    "{\n",
    "  rownames(BlockToDist[[i]])<-Block.needIgraph[[i]]\n",
    "  colnames(BlockToDist[[i]])<-Block.needIgraph[[i]]\n",
    " # print(i)\n",
    "}\n",
    "#save(BlockToDist,file=\"BlockToDist_chr1.Rdata\")"
   ]
  },
  {
   "cell_type": "markdown",
   "metadata": {},
   "source": [
    "&nbsp;\n",
    "### 把距离矩阵转为01矩阵（多进程）"
   ]
  },
  {
   "cell_type": "code",
   "execution_count": 10,
   "metadata": {},
   "outputs": [
    {
     "data": {
      "text/plain": [
       "   user  system elapsed \n",
       " 77.223   3.034 201.078 "
      ]
     },
     "metadata": {},
     "output_type": "display_data"
    }
   ],
   "source": [
    "library(parallel)\n",
    "cl <- makeCluster(5)\n",
    "clusterExport(cl, \"DGV_Supporting_START.END\")  \n",
    "DistTo0or1<-function(x)\n",
    "  {\n",
    "DistTest<-x\n",
    "DistTest[DistTest<=100]<-c(\"1\")\n",
    "DistTest[DistTest>100]<-c(\"0\")\n",
    "DistTest[row(DistTest)==col(DistTest)]<-c(\"0\")\n",
    "return(DistTest)\n",
    "}\n",
    "\n",
    "#BlockToDist<-lapply(BlockToDist,DistTo0or1)\n",
    "system.time({BlockToDist_0or1<-parLapply(cl,BlockToDist,DistTo0or1)})\n"
   ]
  },
  {
   "cell_type": "markdown",
   "metadata": {},
   "source": [
    "&nbsp;\n",
    "### 通过01矩阵生成Block"
   ]
  },
  {
   "cell_type": "code",
   "execution_count": 11,
   "metadata": {},
   "outputs": [
    {
     "data": {
      "text/plain": [
       "    user   system  elapsed \n",
       "6450.297   30.200 6495.996 "
      ]
     },
     "metadata": {},
     "output_type": "display_data"
    }
   ],
   "source": [
    "Block2graph<-function(BlockToDist_0or1){\n",
    "temp<-list()\n",
    "for(i in 1:length(BlockToDist_0or1))\n",
    "{\n",
    "a<-graph.adjacency(BlockToDist_0or1[[i]],mode=\"undirected\")\n",
    "a<-max_cliques(a,min = 1)\n",
    "temp<-c(temp,list(a))\n",
    "#print(i)\n",
    "}\n",
    "return(temp)\n",
    "}\n",
    "\n",
    "system.time({Block.cliques<-Block2graph(BlockToDist_0or1)})\n",
    "\n",
    "#unlist(Block.cliques[[2]])[duplicated(unlist(Block.cliques[[2]]))]\n",
    "\n",
    "#do.call(sum,lapply(lapply(Block.cliques,function(x){length(x)}),sum)) #看一共有多少clique 5744\n"
   ]
  },
  {
   "cell_type": "markdown",
   "metadata": {},
   "source": [
    "&nbsp;\n",
    "### 删除重复的SV"
   ]
  },
  {
   "cell_type": "code",
   "execution_count": 12,
   "metadata": {},
   "outputs": [],
   "source": [
    "CliquesRMduplicated<-function(BlockCliques)\n",
    "{\n",
    "temp<-lapply(BlockCliques,length)%>%unlist\n",
    "names(temp)<-c(1:length(temp))\n",
    "temp2<-BlockCliques[temp%>%sort(decreasing=TRUE)%>%names%>%as.numeric]\n",
    "\n",
    "temp3<-list()\n",
    "for(i in 1:length(temp2))\n",
    "\t{\n",
    "\ttemp3<-c(temp3,list(names(unlist(temp2[[i]]))))\n",
    "\tnames(temp3[[i]])<-rep(i,temp2[[i]]%>%length)\n",
    "\t}\n",
    "temp4<-unlist(temp3)\n",
    "temp4<-temp4[duplicated(temp4)!=TRUE]\n",
    "temp5<-list()\n",
    "for(j in unique(temp4%>%names))\n",
    "\t{\n",
    "\ttemp6<-temp4[temp4%>%names==j]\n",
    "\ttemp5<-c(temp5,list(temp6))\n",
    "\t}\n",
    "\n",
    "return(temp5)\t\n",
    "}\n",
    "BlocK.RMdupli.clique<-lapply(Block.cliques,CliquesRMduplicated)\n",
    "\n",
    "#do.call(sum,lapply(lapply(BlocK.RMdupli.clique,function(x){length(x)}),sum))\n",
    "#4887个cliques"
   ]
  },
  {
   "cell_type": "markdown",
   "metadata": {},
   "source": [
    "<font color=red>**把BlocK.RMdupli.clique转为单层list**</font>"
   ]
  },
  {
   "cell_type": "code",
   "execution_count": 13,
   "metadata": {},
   "outputs": [],
   "source": [
    "t<-NULL\n",
    "for(i in 1:length(BlocK.RMdupli.clique))\n",
    "{\n",
    "t<- c(t,BlocK.RMdupli.clique[[i]])\n",
    "}\n",
    "BlocK.RMdupli.clique<-t\n",
    "names(BlocK.RMdupli.clique)<-1:length(BlocK.RMdupli.clique)\n",
    "rm(t)"
   ]
  },
  {
   "cell_type": "markdown",
   "metadata": {},
   "source": [
    "&nbsp;\n",
    "&nbsp;\n",
    "&nbsp;\n",
    "## 对应Information\n"
   ]
  },
  {
   "cell_type": "code",
   "execution_count": 14,
   "metadata": {
    "scrolled": false
   },
   "outputs": [],
   "source": [
    "Merge_cliques_gain<-function(cliques)\n",
    "{\n",
    "    info<-NULL\n",
    "\ttemp<-DGV_Supporting_START.END[unlist(cliques)%>%as.numeric,]\n",
    "    temp<-filter(temp,observedlosses==0)\n",
    "if(nrow(temp)==0){return(NULL)}\n",
    "else{\n",
    "    temp<-temp[grep(FALSE,temp[,\"samples\"]%>%unlist%>%duplicated),]\n",
    "    info2<-c(temp[,\"chr\"]%>%unique,temp[,\"start\"]%>%min,temp[,\"end\"]%>%max)\n",
    "\tsupportingvariants<-paste(temp[,\"variantaccession\"],collapse=\",\")\n",
    "\tvariantsubtype<-temp[,\"variantsubtype\"]%>%unique%>%paste(collapse = \",\")\n",
    "\t\n",
    "     \n",
    "    observedgains<-temp[,\"observedgains\"]%>%sum\n",
    "\tobservedlosses<-temp[,\"observedlosses\"]%>%sum\n",
    "\tgenes<-temp[,\"genes\"]%>%strsplit(\",\")%>%unlist%>%unique%>%paste(collapse = \",\")\n",
    "\tsamples<-temp[,\"samples\"]%>%unlist%>%paste(collapse = \",\")\n",
    "    \n",
    "    ethnicity<-temp[,\"Ethnicity\"]%>%table\n",
    "    \n",
    "    European_Non_Finnish<-ethnicity[\"European (Non-Finnish)\"]\n",
    "\t\tEuropean_Finnish<-ethnicity[\"European (Finnish)\"]\n",
    "\t\tEast_Asian<-ethnicity[\"East Asian\"]\n",
    "\t\tLatino<-ethnicity[\"Latino\"]\n",
    "\t\tSouth_Asian<-ethnicity[\"South Asian\"]\n",
    "\t\tAfrican<-ethnicity[\"African\"]\n",
    "\t\tNo_report<-ethnicity[\"No-report\"]\n",
    "\t\tOther<-ethnicity[\"Other\"]\n",
    "\t\tAshkenazi_Jewish<-ethnicity[\"Ashkenazi Jewish\"]\n",
    "\t\tethnicity_new<-c(European_Non_Finnish,European_Finnish,East_Asian,Latino,South_Asian,African,No_report,Other,Ashkenazi_Jewish)\n",
    "\t\tethnicity_new[ethnicity_new%>%is.na]=0\n",
    "    \n",
    "    #samples_duplicated<-temp[grep(TRUE,temp[,\"samples\"]%>%unlist%>%duplicated),]\n",
    "    #  observedgains<-observedgains-samples_duplicated[,\"observedgains\"]%>%as.numeric\n",
    "        info2<-c(info2,supportingvariants,variantsubtype,observedgains,observedlosses,genes,samples,ethnicity_new)\n",
    "        info2<-rbind(info,info2)\n",
    "    return(info2)\n",
    "    }\n",
    "}\n",
    "\n",
    "Merge_cliques_loss<-function(cliques)\n",
    "{\n",
    "    info<-NULL\n",
    "\ttemp<-DGV_Supporting_START.END[unlist(cliques)%>%as.numeric,]\n",
    "    temp<-filter(temp,observedgains==0)\n",
    "if(nrow(temp)==0){return(NULL)}\n",
    "else{\n",
    "    temp<-temp[grep(FALSE,temp[,\"samples\"]%>%unlist%>%duplicated),]\n",
    "    info2<-c(temp[,\"chr\"]%>%unique,temp[,\"start\"]%>%min,temp[,\"end\"]%>%max)\n",
    "\tsupportingvariants<-paste(temp[,\"variantaccession\"],collapse=\",\")\n",
    "\tvariantsubtype<-temp[,\"variantsubtype\"]%>%unique%>%paste(collapse = \",\")\n",
    "\t\n",
    "     \n",
    "    observedgains<-temp[,\"observedgains\"]%>%sum\n",
    "\tobservedlosses<-temp[,\"observedlosses\"]%>%sum\n",
    "\tgenes<-temp[,\"genes\"]%>%strsplit(\",\")%>%unlist%>%unique%>%paste(collapse = \",\")\n",
    "\tsamples<-temp[,\"samples\"]%>%unlist%>%paste(collapse = \",\")\n",
    "    \n",
    "    ethnicity<-temp[,\"Ethnicity\"]%>%table\n",
    "    \n",
    "    European_Non_Finnish<-ethnicity[\"European (Non-Finnish)\"]\n",
    "\t\tEuropean_Finnish<-ethnicity[\"European (Finnish)\"]\n",
    "\t\tEast_Asian<-ethnicity[\"East Asian\"]\n",
    "\t\tLatino<-ethnicity[\"Latino\"]\n",
    "\t\tSouth_Asian<-ethnicity[\"South Asian\"]\n",
    "\t\tAfrican<-ethnicity[\"African\"]\n",
    "\t\tNo_report<-ethnicity[\"No-report\"]\n",
    "\t\tOther<-ethnicity[\"Other\"]\n",
    "\t\tAshkenazi_Jewish<-ethnicity[\"Ashkenazi Jewish\"]\n",
    "\t\tethnicity_new<-c(European_Non_Finnish,European_Finnish,East_Asian,Latino,South_Asian,African,No_report,Other,Ashkenazi_Jewish)\n",
    "\t\tethnicity_new[ethnicity_new%>%is.na]=0\n",
    "    \n",
    "    #samples_duplicated<-temp[grep(TRUE,temp[,\"samples\"]%>%unlist%>%duplicated),]\n",
    "    #  observedgains<-observedgains-samples_duplicated[,\"observedgains\"]%>%as.numeric\n",
    "        info2<-c(info2,supportingvariants,variantsubtype,observedgains,observedlosses,genes,samples,ethnicity_new)\n",
    "        info2<-rbind(info,info2)\n",
    "    return(info2)\n",
    "    }\n",
    "}\n",
    "\n",
    "Merge_cliques<-function(cliques)\n",
    "{\n",
    "    info<-NULL\n",
    "\ttemp<-DGV_Supporting_START.END[unlist(cliques)%>%as.numeric,]\n",
    "\ttemp<-temp[grep(FALSE,temp[,\"samples\"]%>%unlist%>%duplicated),]\n",
    "    \n",
    "    \n",
    "    \n",
    "    \n",
    "    \n",
    "    info2<-c(temp[,\"chr\"]%>%unique,temp[,\"start\"]%>%min,temp[,\"end\"]%>%max)\n",
    "\tsupportingvariants<-paste(temp[,\"variantaccession\"],collapse=\",\")\n",
    "\tvariantsubtype<-temp[,\"variantsubtype\"]%>%unique%>%paste(collapse = \",\")\n",
    "\t\n",
    "     \n",
    "    observedgains<-temp[,\"observedgains\"]%>%sum\n",
    "\tobservedlosses<-temp[,\"observedlosses\"]%>%sum\n",
    "\tgenes<-temp[,\"genes\"]%>%strsplit(\",\")%>%unlist%>%unique%>%paste(collapse = \",\")\n",
    "\tsamples<-temp[,\"samples\"]%>%unlist%>%paste(collapse = \",\")\n",
    "    \n",
    "    ethnicity<-temp[,\"Ethnicity\"]%>%table\n",
    "    \n",
    "    European_Non_Finnish<-ethnicity[\"European (Non-Finnish)\"]\n",
    "\t\tEuropean_Finnish<-ethnicity[\"European (Finnish)\"]\n",
    "\t\tEast_Asian<-ethnicity[\"East Asian\"]\n",
    "\t\tLatino<-ethnicity[\"Latino\"]\n",
    "\t\tSouth_Asian<-ethnicity[\"South Asian\"]\n",
    "\t\tAfrican<-ethnicity[\"African\"]\n",
    "\t\tNo_report<-ethnicity[\"No-report\"]\n",
    "\t\tOther<-ethnicity[\"Other\"]\n",
    "\t\tAshkenazi_Jewish<-ethnicity[\"Ashkenazi Jewish\"]\n",
    "\t\tethnicity_new<-c(European_Non_Finnish,European_Finnish,East_Asian,Latino,South_Asian,African,No_report,Other,Ashkenazi_Jewish)\n",
    "\t\tethnicity_new[ethnicity_new%>%is.na]=0\n",
    "    \n",
    "    #samples_duplicated<-temp[grep(TRUE,temp[,\"samples\"]%>%unlist%>%duplicated),]\n",
    "    #  observedgains<-observedgains-samples_duplicated[,\"observedgains\"]%>%as.numeric\n",
    "        info2<-c(info2,supportingvariants,variantsubtype,observedgains,observedlosses,genes,samples,ethnicity_new)\n",
    "        info2<-rbind(info,info2)\n",
    "    return(info2)\n",
    "}\n"
   ]
  },
  {
   "cell_type": "markdown",
   "metadata": {},
   "source": [
    "### Merge"
   ]
  },
  {
   "cell_type": "code",
   "execution_count": 15,
   "metadata": {},
   "outputs": [
    {
     "data": {
      "text/plain": [
       "   user  system elapsed \n",
       "  8.307   0.093   8.420 "
      ]
     },
     "metadata": {},
     "output_type": "display_data"
    },
    {
     "data": {
      "text/plain": [
       "   user  system elapsed \n",
       " 32.766   0.303  33.148 "
      ]
     },
     "metadata": {},
     "output_type": "display_data"
    }
   ],
   "source": [
    "system.time({Variants_Merge<-lapply(BlocK.RMdupli.clique,Merge_cliques)})\n",
    "system.time({Variants_Nograph_Merge<-lapply(Block.NO.needIgraph,Merge_cliques)})\n",
    "temp<-do.call(rbind,Variants_Merge)\n",
    "temp2<-do.call(rbind,Variants_Nograph_Merge)\n",
    "temp<-rbind(temp,temp2)\n",
    "rownames(temp)<-1:nrow(temp)\n",
    "colnames(temp)<-c(\"chr\",\"start\",\"end\",\"supportingvariants\",\"variantsubtype\",\"observedgains\",\"observedlosses\",\"genes\",\"samples\",\"European_Non_Finnish\",\"European_Finnish\",\"East_Asian\",\"Latino\",\"South_Asian\",\"African\",\"No_report\",\"Other\",\"Ashkenazi_Jewish\")\n",
    "write.table(temp,file = \"chr18.txt\",quote = FALSE,sep = \"\\t\",row.names = FALSE,col.names = TRUE)"
   ]
  },
  {
   "cell_type": "markdown",
   "metadata": {},
   "source": [
    "### Merge_loss"
   ]
  },
  {
   "cell_type": "code",
   "execution_count": 16,
   "metadata": {},
   "outputs": [],
   "source": [
    "Variants_Merge_loss<-lapply(BlocK.RMdupli.clique,Merge_cliques_loss)\n",
    "Variants_Nograph_Merge_loss<-lapply(Block.NO.needIgraph,Merge_cliques_loss)\n",
    "temp<-do.call(rbind,Variants_Merge_loss)\n",
    "temp2<-do.call(rbind,Variants_Nograph_Merge_loss)\n",
    "temp<-rbind(temp,temp2)\n",
    "rownames(temp)<-1:nrow(temp)\n",
    "colnames(temp)<-c(\"chr\",\"start\",\"end\",\"supportingvariants\",\"variantsubtype\",\"observedgains\",\"observedlosses\",\"genes\",\"samples\",\"European_Non_Finnish\",\"European_Finnish\",\"East_Asian\",\"Latino\",\"South_Asian\",\"African\",\"No_report\",\"Other\",\"Ashkenazi_Jewish\")\n",
    "write.table(temp,file = \"./Merged_loss/chr18.txt\",quote = FALSE,sep = \"\\t\",row.names = FALSE,col.names = TRUE)"
   ]
  },
  {
   "cell_type": "markdown",
   "metadata": {},
   "source": [
    "### Merge_gain"
   ]
  },
  {
   "cell_type": "code",
   "execution_count": 17,
   "metadata": {
    "scrolled": true
   },
   "outputs": [],
   "source": [
    "Variants_Merge_gain<-lapply(BlocK.RMdupli.clique,Merge_cliques_gain)\n",
    "Variants_Nograph_Merge_gain<-lapply(Block.NO.needIgraph,Merge_cliques_gain)\n",
    "temp<-do.call(rbind,Variants_Merge_gain)\n",
    "temp2<-do.call(rbind,Variants_Nograph_Merge_gain)\n",
    "temp<-rbind(temp,temp2)\n",
    "rownames(temp)<-1:nrow(temp)\n",
    "colnames(temp)<-c(\"chr\",\"start\",\"end\",\"supportingvariants\",\"variantsubtype\",\"observedgains\",\"observedlosses\",\"genes\",\"samples\",\"European_Non_Finnish\",\"European_Finnish\",\"East_Asian\",\"Latino\",\"South_Asian\",\"African\",\"No_report\",\"Other\",\"Ashkenazi_Jewish\")\n",
    "write.table(temp,file = \"./Merged_gain/chr18.txt\",quote = FALSE,sep = \"\\t\",row.names = FALSE,col.names = TRUE)"
   ]
  },
  {
   "cell_type": "code",
   "execution_count": 18,
   "metadata": {},
   "outputs": [],
   "source": [
    "save(BlocK.RMdupli.clique,Block.NO.needIgraph,file=\"./Save_block/chr18.Rdata\")"
   ]
  },
  {
   "cell_type": "code",
   "execution_count": 19,
   "metadata": {},
   "outputs": [
    {
     "data": {
      "text/plain": [
       ".\n",
       "     1     10     11     12     13     14     15     16     17     18     19 \n",
       "558363 304767 301836 287010 183086 210971 216964 255555 222544 162283 210159 \n",
       "     2     20     21     22      3      4      5      6      7      8      9 \n",
       "431309 129556  92298 123145 386367 472527 364796 481681 403060 321131 287836 \n",
       "     X      Y \n",
       " 96505   6718 "
      ]
     },
     "metadata": {},
     "output_type": "display_data"
    }
   ],
   "source": [
    "DGV_Supporting$chr%>%table"
   ]
  },
  {
   "cell_type": "code",
   "execution_count": null,
   "metadata": {},
   "outputs": [],
   "source": []
  }
 ],
 "metadata": {
  "kernelspec": {
   "display_name": "R",
   "language": "R",
   "name": "ir"
  },
  "language_info": {
   "codemirror_mode": "r",
   "file_extension": ".r",
   "mimetype": "text/x-r-source",
   "name": "R",
   "pygments_lexer": "r",
   "version": "3.4.3"
  }
 },
 "nbformat": 4,
 "nbformat_minor": 2
}
